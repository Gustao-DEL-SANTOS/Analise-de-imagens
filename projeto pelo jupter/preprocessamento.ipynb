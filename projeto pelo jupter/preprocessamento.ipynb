{
 "cells": [
  {
   "cell_type": "markdown",
   "id": "9ba019b9",
   "metadata": {},
   "source": [
    "# Primeiro passo é realizar a importacao das bibliotecas"
   ]
  },
  {
   "cell_type": "code",
   "execution_count": 1,
   "id": "cda13a36",
   "metadata": {},
   "outputs": [],
   "source": [
    "import cv2 as cv\n",
    "from matplotlib import pyplot as plt\n",
    "import numpy as np\n",
    "from PyQt5 import uic, QtWidgets\n",
    "import webbrowser, os"
   ]
  },
  {
   "cell_type": "code",
   "execution_count": 2,
   "id": "b7b1292f",
   "metadata": {},
   "outputs": [],
   "source": [
    "kernel = np.ones((3, 3), np.uint8) "
   ]
  },
  {
   "cell_type": "markdown",
   "id": "0d4529b6",
   "metadata": {},
   "source": [
    "# A função redimencionar serve para alterar o tamanho  da imagem que sera apresentada na tela de login"
   ]
  },
  {
   "cell_type": "code",
   "execution_count": 3,
   "id": "bfab5714",
   "metadata": {},
   "outputs": [],
   "source": [
    "def redimensionar_img(img_name):\n",
    "    try:\n",
    "        # faz a leitura da imagem\n",
    "#         img = cv.imread(img_name, 0)\n",
    "        img = img_name\n",
    "        # pega o numero de pixels horizonta e vertical\n",
    "        h, w = img.shape[:2]\n",
    "\n",
    "        res = cv.resize(img, (int(w / 2), int(h / 2)), interpolation= cv.INTER_CUBIC )\n",
    "#         cv.imshow('diminuida', res)\n",
    "    except IOError:\n",
    "        print('Erro na leitura do arquivo!')\n",
    "    return res"
   ]
  },
  {
   "cell_type": "markdown",
   "id": "65a97165",
   "metadata": {},
   "source": [
    "# A função de deteccao de bordas:\n",
    "* O kernel utilizado para a detecção é o filtro laplaciano e sua mascara de matriz (5x5).\n",
    "* A tonalidade da imagem é transformada utilizando um filtro para deixá-la acinzentada. "
   ]
  },
  {
   "cell_type": "code",
   "execution_count": 4,
   "id": "e323bfd2",
   "metadata": {},
   "outputs": [],
   "source": [
    "def deteccao_de_bordas(img_name):\n",
    "    img = img_name\n",
    "    edges = cv.Canny(img,100,200)\n",
    "#     cv.imshow('original', img)\n",
    "#     cv.imshow('bordas', edges)\n",
    "    \n",
    "    return edges"
   ]
  },
  {
   "cell_type": "markdown",
   "id": "424ac708",
   "metadata": {},
   "source": [
    "# A função Threshold binario\n",
    "* faz a binarização de uma imagem ou seja, tranformando ela em preto e branco.\n",
    "* Sendo o metodo adaptivo de gaussian."
   ]
  },
  {
   "cell_type": "code",
   "execution_count": 5,
   "id": "8bfb282a",
   "metadata": {},
   "outputs": [],
   "source": [
    "def threshold_binario(img_name):\n",
    "    # Recebendo objeto imagem aberto\n",
    "    img_o = img_name\n",
    "    img = cv.cvtColor(img_o, 0)  \n",
    "    res, img_b = cv.threshold(img,127,255,cv.THRESH_BINARY_INV)\n",
    "\n",
    "#     cv.imshow('Binarizacao Adaptive Gaussian', img_b) \n",
    "    \n",
    "    return img_b"
   ]
  },
  {
   "cell_type": "markdown",
   "id": "c1024707",
   "metadata": {},
   "source": [
    "# Filtros morfologicos"
   ]
  },
  {
   "cell_type": "code",
   "execution_count": 6,
   "id": "33e12300",
   "metadata": {},
   "outputs": [],
   "source": [
    "def dilatacao(img_name):\n",
    "    img = img_name\n",
    "    img_dilation = cv.dilate(img, kernel, iterations=1) \n",
    "#     cv.imshow('Dilatada', img_dilation)\n",
    "    return img_dilation"
   ]
  },
  {
   "cell_type": "code",
   "execution_count": 7,
   "id": "7e52a561",
   "metadata": {},
   "outputs": [],
   "source": [
    "def erosao(img_name):\n",
    "    img = img_name\n",
    "    img_erosao = cv.erode(img, kernel, iterations=1)\n",
    "#     cv.imshow('Erosao', img_erosao)\n",
    "    return img_erosao"
   ]
  },
  {
   "cell_type": "code",
   "execution_count": 8,
   "id": "aececf53",
   "metadata": {},
   "outputs": [],
   "source": [
    "def abertura(img_name):\n",
    "    img = img_name\n",
    "    abertura = cv.morphologyEx(img, cv.MORPH_OPEN, kernel)\n",
    "#     cv.imshow('Abertura', abertura)\n",
    "    return abertura\n",
    "    "
   ]
  },
  {
   "cell_type": "code",
   "execution_count": 9,
   "id": "c960a62c",
   "metadata": {},
   "outputs": [],
   "source": [
    "def fechamento(img_name):\n",
    "    img = img_name\n",
    "    fechamento = cv.morphologyEx(img, cv.MORPH_CLOSE, kernel)\n",
    "#     cv.imshow('Fechamento', fechamento)\n",
    "    return fechamento"
   ]
  },
  {
   "cell_type": "markdown",
   "id": "a042452f",
   "metadata": {},
   "source": [
    "# Função skeletonized "
   ]
  },
  {
   "cell_type": "code",
   "execution_count": 10,
   "id": "a9c30503",
   "metadata": {},
   "outputs": [],
   "source": [
    "def skeleton(img_name):\n",
    "    # Read the image as a grayscale image\n",
    "    img = img_name\n",
    "    \n",
    "    # Threshold the image\n",
    "    img = cv.cvtColor(img, cv.COLOR_BGR2GRAY)\n",
    "    ret,img = cv.threshold(img, 127, 255, 0)\n",
    "    \n",
    "    \n",
    "    # Step 1: Create an empty skeleton\n",
    "    size = np.size(img)\n",
    "    skel = np.zeros(img.shape, np.uint8)\n",
    "\n",
    "    # Get a Cross Shaped Kernel\n",
    "    krl = cv.getStructuringElement(cv.MORPH_CROSS, (3,3))\n",
    "\n",
    "    # Repeat steps 2-4\n",
    "    while True:\n",
    "        #Step 2: Open the image\n",
    "        open = cv.morphologyEx(img, cv.MORPH_OPEN, krl)\n",
    "        #Step 3: Substract open from the original image\n",
    "        temp = cv.subtract(img, open)\n",
    "        #Step 4: Erode the original image and refine the skeleton\n",
    "        eroded = cv.erode(img, krl)\n",
    "        skel = cv.bitwise_or(skel,temp)\n",
    "        img = eroded.copy()\n",
    "        # Step 5: If there are no white pixels left ie.. the image has been completely eroded, quit the loop\n",
    "        if cv.countNonZero(img)==0:\n",
    "            break\n",
    "\n",
    "#     cv.imshow('Skeletonized', skel)\n",
    "    return skel"
   ]
  },
  {
   "cell_type": "markdown",
   "id": "f6b567b7",
   "metadata": {},
   "source": [
    "# Informacoes dos niveis de acessos"
   ]
  },
  {
   "cell_type": "code",
   "execution_count": 11,
   "id": "4614ee32",
   "metadata": {},
   "outputs": [],
   "source": [
    "def info_n(nivel):\n",
    "    if nivel == 1:\n",
    "        n1 = '''\n",
    "            Informações do nível 1 - Produção agrícola \\n\\n\n",
    "\n",
    "\n",
    "\n",
    "            Nome da unidade produtora (produtor agrícola)\\n \n",
    "\n",
    "            Endereço do produtor agrícola \\n\n",
    "\n",
    "            Produto(s) agrícolas produzidos \\n\n",
    "\n",
    "            Produção anual em quilogramas \\n\n",
    "\n",
    "            Destino da produção (mercado interno ou exportação) \\n\n",
    "\n",
    "            Número de empregados da unidade produtora \\n\n",
    "\n",
    "            Quantidade de máquinas e implementos aquícolas \\n\n",
    "\n",
    "            Nível de automação da unidade produtora \\n\n",
    "             '''\n",
    "        nv = 'Nivel 1\\nProdução\\nAgrícola\\n'\n",
    "        return n1, nv\n",
    "    elif nivel == 2:\n",
    "        n2 = '''\n",
    "            Informações do nível 2 - Informações fiscais \\n\\n\n",
    "\n",
    "\n",
    "\n",
    "            Incentivos fiscais recebidos \\n\n",
    "\n",
    "            Impostos municipais pagos \\n\n",
    "\n",
    "            Impostos estaduais recolhidos\\n \n",
    "\n",
    "            Impostos federais pagos \\n\n",
    "\n",
    "            Taxas federais pagas\n",
    "             '''\n",
    "        nv = 'Nivel 2\\nInformações\\nfiscais'\n",
    "        return n2, nv\n",
    "    elif nivel == 3:\n",
    "        n3 = '''\n",
    "            Informações do nível 3 - agrotóxicos \\n\\n\n",
    "\n",
    "\n",
    "\n",
    "            Agrotóxicos empregados nas produções agrícolas \\n\n",
    "\n",
    "\n",
    "\n",
    "            Onde adquirir as informações: site do Ministério da agricultura,\\n\n",
    "            site do mistério do meio ambiente.\\n\n",
    "             '''\n",
    "        nv = 'Nivel 3\\nAgrotóxicos'\n",
    "        return n3, nv "
   ]
  },
  {
   "cell_type": "markdown",
   "id": "249085a6",
   "metadata": {},
   "source": [
    "# PyQt5"
   ]
  },
  {
   "cell_type": "code",
   "execution_count": 12,
   "id": "a0e77ede",
   "metadata": {},
   "outputs": [],
   "source": [
    "def exibir_dados(nvl):\n",
    "    txt, lvl = info_n(nvl)    \n",
    "    nivel_um_tela.txtN.setText(txt)\n",
    "    nivel_um_tela.lbl_nivel.setText(lvl)\n",
    "    nivel_um_tela.show()\n",
    "    nivel_um_tela.btn_voltar.close()\n",
    "    \n",
    "    "
   ]
  },
  {
   "cell_type": "code",
   "execution_count": 13,
   "id": "ebc70e75",
   "metadata": {},
   "outputs": [],
   "source": [
    "def logi_dados():\n",
    "    name = str(login_tela.txt_user.text())\n",
    "    if name.upper() == 'jose'.upper():\n",
    "        lvl = 3\n",
    "        exibir_dados(lvl)\n",
    "    elif name.upper() == 'gisele'.upper():\n",
    "        lvl = 2\n",
    "        exibir_dados(lvl) \n",
    "    elif name.upper() == 'kaka'.upper():\n",
    "        lvl = 1\n",
    "        exibir_dados(lvl) \n",
    "    elif name.upper() == 'anderson'.upper():\n",
    "        lvl = 3\n",
    "        exibir_dados(lvl) "
   ]
  },
  {
   "cell_type": "code",
   "execution_count": 14,
   "id": "ddb6c3f8",
   "metadata": {},
   "outputs": [],
   "source": [
    "def cadastro_dados():\n",
    "    cadastro_tela.show()"
   ]
  },
  {
   "cell_type": "code",
   "execution_count": 15,
   "id": "9341b3e8",
   "metadata": {},
   "outputs": [],
   "source": [
    "def select_digital():\n",
    "    path=\"C:/Users\"\n",
    "    caminho = webbrowser.open(os.path.realpath(path))\n",
    "    login_tela.lbl_digital.setText(caminho)\n",
    "    return str(caminho)"
   ]
  },
  {
   "cell_type": "markdown",
   "id": "70302747",
   "metadata": {},
   "source": [
    "# A seguir sera chamada a função main"
   ]
  },
  {
   "cell_type": "code",
   "execution_count": null,
   "id": "95108cb3",
   "metadata": {},
   "outputs": [
    {
     "name": "stdout",
     "output_type": "stream",
     "text": [
      "[]\n",
      "[]\n",
      "[[  0   0   0   0   0]\n",
      " [  0   0   0   0   0]\n",
      " [255 255 255 255   0]\n",
      " [  0 255 255   0   0]\n",
      " [  0 255 255   0   0]\n",
      " [255 255 255 255 255]\n",
      " [  0   0   0   0   0]\n",
      " [  0   0   0   0   0]\n",
      " [  0   0   0   0   0]\n",
      " [  0   0   0   0   0]\n",
      " [  0   0   0   0   0]\n",
      " [  0   0   0 255 255]\n",
      " [  0   0   0   0 255]\n",
      " [  0   0   0   0   0]\n",
      " [  0   0   0   0   0]\n",
      " [  0   0   0   0   0]\n",
      " [255   0   0   0   0]\n",
      " [  0   0   0   0   0]\n",
      " [  0   0   0   0   0]\n",
      " [255 255 255 255   0]\n",
      " [  0   0   0   0 255]\n",
      " [  0   0   0   0   0]\n",
      " [  0   0   0   0   0]\n",
      " [  0   0   0   0   0]\n",
      " [  0   0   0   0 255]\n",
      " [255 255 255 255   0]\n",
      " [255 255 255 255   0]\n",
      " [  0 255 255 255   0]\n",
      " [  0   0   0 255 255]\n",
      " [  0   0   0   0 255]\n",
      " [  0   0   0   0   0]\n",
      " [  0   0   0   0   0]\n",
      " [  0   0   0   0   0]\n",
      " [  0   0   0   0   0]\n",
      " [  0   0   0   0   0]\n",
      " [  0   0   0   0   0]\n",
      " [  0   0   0   0   0]\n",
      " [  0   0   0   0   0]\n",
      " [  0   0 255   0   0]\n",
      " [  0   0   0   0   0]\n",
      " [255 255 255 255 255]\n",
      " [255 255 255 255 255]\n",
      " [255 255   0   0   0]\n",
      " [  0   0   0   0   0]\n",
      " [  0   0   0   0   0]\n",
      " [  0   0   0   0   0]\n",
      " [  0   0   0   0   0]\n",
      " [  0 255   0   0   0]\n",
      " [255   0   0   0   0]\n",
      " [  0   0   0   0   0]\n",
      " [  0   0   0   0   0]\n",
      " [  0   0   0   0   0]\n",
      " [  0   0   0   0   0]\n",
      " [  0   0   0   0   0]\n",
      " [  0   0   0   0   0]\n",
      " [  0   0   0   0   0]\n",
      " [  0   0   0   0   0]\n",
      " [  0   0   0   0   0]\n",
      " [255 255 255 255 255]\n",
      " [  0   0   0 255   0]\n",
      " [  0   0   0 255 255]\n",
      " [  0   0   0 255 255]\n",
      " [  0   0 255 255 255]\n",
      " [  0   0 255   0   0]\n",
      " [  0 255 255 255 255]\n",
      " [255   0   0   0   0]\n",
      " [  0   0   0   0   0]\n",
      " [  0   0   0   0   0]\n",
      " [  0   0   0   0   0]\n",
      " [  0   0   0   0   0]\n",
      " [  0   0   0   0   0]\n",
      " [  0   0   0   0   0]\n",
      " [255 255 255 255 255]\n",
      " [255   0   0   0   0]\n",
      " [  0   0   0   0   0]]\n",
      "[]\n"
     ]
    },
    {
     "ename": "AttributeError",
     "evalue": "'QMainWindow' object has no attribute 'lbl_digital'",
     "output_type": "error",
     "traceback": [
      "\u001b[1;31m---------------------------------------------------------------------------\u001b[0m",
      "\u001b[1;31mAttributeError\u001b[0m                            Traceback (most recent call last)",
      "\u001b[1;32m<ipython-input-15-8ff4669b5c00>\u001b[0m in \u001b[0;36mselect_digital\u001b[1;34m()\u001b[0m\n\u001b[0;32m      2\u001b[0m     \u001b[0mpath\u001b[0m\u001b[1;33m=\u001b[0m\u001b[1;34m\"C:/Users\"\u001b[0m\u001b[1;33m\u001b[0m\u001b[1;33m\u001b[0m\u001b[0m\n\u001b[0;32m      3\u001b[0m     \u001b[0mcaminho\u001b[0m \u001b[1;33m=\u001b[0m \u001b[0mwebbrowser\u001b[0m\u001b[1;33m.\u001b[0m\u001b[0mopen\u001b[0m\u001b[1;33m(\u001b[0m\u001b[0mos\u001b[0m\u001b[1;33m.\u001b[0m\u001b[0mpath\u001b[0m\u001b[1;33m.\u001b[0m\u001b[0mrealpath\u001b[0m\u001b[1;33m(\u001b[0m\u001b[0mpath\u001b[0m\u001b[1;33m)\u001b[0m\u001b[1;33m)\u001b[0m\u001b[1;33m\u001b[0m\u001b[1;33m\u001b[0m\u001b[0m\n\u001b[1;32m----> 4\u001b[1;33m     \u001b[0mlogin_tela\u001b[0m\u001b[1;33m.\u001b[0m\u001b[0mlbl_digital\u001b[0m\u001b[1;33m.\u001b[0m\u001b[0msetText\u001b[0m\u001b[1;33m(\u001b[0m\u001b[0mcaminho\u001b[0m\u001b[1;33m)\u001b[0m\u001b[1;33m\u001b[0m\u001b[1;33m\u001b[0m\u001b[0m\n\u001b[0m\u001b[0;32m      5\u001b[0m     \u001b[1;32mreturn\u001b[0m \u001b[0mstr\u001b[0m\u001b[1;33m(\u001b[0m\u001b[0mcaminho\u001b[0m\u001b[1;33m)\u001b[0m\u001b[1;33m\u001b[0m\u001b[1;33m\u001b[0m\u001b[0m\n",
      "\u001b[1;31mAttributeError\u001b[0m: 'QMainWindow' object has no attribute 'lbl_digital'"
     ]
    },
    {
     "ename": "AttributeError",
     "evalue": "'QMainWindow' object has no attribute 'lbl_digital'",
     "output_type": "error",
     "traceback": [
      "\u001b[1;31m---------------------------------------------------------------------------\u001b[0m",
      "\u001b[1;31mAttributeError\u001b[0m                            Traceback (most recent call last)",
      "\u001b[1;32m<ipython-input-15-8ff4669b5c00>\u001b[0m in \u001b[0;36mselect_digital\u001b[1;34m()\u001b[0m\n\u001b[0;32m      2\u001b[0m     \u001b[0mpath\u001b[0m\u001b[1;33m=\u001b[0m\u001b[1;34m\"C:/Users\"\u001b[0m\u001b[1;33m\u001b[0m\u001b[1;33m\u001b[0m\u001b[0m\n\u001b[0;32m      3\u001b[0m     \u001b[0mcaminho\u001b[0m \u001b[1;33m=\u001b[0m \u001b[0mwebbrowser\u001b[0m\u001b[1;33m.\u001b[0m\u001b[0mopen\u001b[0m\u001b[1;33m(\u001b[0m\u001b[0mos\u001b[0m\u001b[1;33m.\u001b[0m\u001b[0mpath\u001b[0m\u001b[1;33m.\u001b[0m\u001b[0mrealpath\u001b[0m\u001b[1;33m(\u001b[0m\u001b[0mpath\u001b[0m\u001b[1;33m)\u001b[0m\u001b[1;33m)\u001b[0m\u001b[1;33m\u001b[0m\u001b[1;33m\u001b[0m\u001b[0m\n\u001b[1;32m----> 4\u001b[1;33m     \u001b[0mlogin_tela\u001b[0m\u001b[1;33m.\u001b[0m\u001b[0mlbl_digital\u001b[0m\u001b[1;33m.\u001b[0m\u001b[0msetText\u001b[0m\u001b[1;33m(\u001b[0m\u001b[0mcaminho\u001b[0m\u001b[1;33m)\u001b[0m\u001b[1;33m\u001b[0m\u001b[1;33m\u001b[0m\u001b[0m\n\u001b[0m\u001b[0;32m      5\u001b[0m     \u001b[1;32mreturn\u001b[0m \u001b[0mstr\u001b[0m\u001b[1;33m(\u001b[0m\u001b[0mcaminho\u001b[0m\u001b[1;33m)\u001b[0m\u001b[1;33m\u001b[0m\u001b[1;33m\u001b[0m\u001b[0m\n",
      "\u001b[1;31mAttributeError\u001b[0m: 'QMainWindow' object has no attribute 'lbl_digital'"
     ]
    }
   ],
   "source": [
    "if __name__ == '__main__':\n",
    "#     Seleciona um arquivo de imagem\n",
    "    img = 'assets\\input\\\\'+'digital_real3.jpg'    \n",
    "    \n",
    "    \n",
    "#     obj do pyqt5\n",
    "    app = QtWidgets.QApplication([])\n",
    "    login_tela = uic.loadUi('escopo APS/login.ui')\n",
    "    nivel_um_tela = uic.loadUi('escopo APS/nivel_um.ui')\n",
    "    cadastro_tela = uic.loadUi('escopo APS/cadastro.ui')\n",
    "    login_tela.btn_cadastro.clicked.connect(cadastro_dados)\n",
    "    login_tela.pushButton.clicked.connect(logi_dados)\n",
    "    login_tela.btn_digital.clicked.connect(select_digital)\n",
    "\n",
    "    login_tela.show()\n",
    "\n",
    "\n",
    "\n",
    "    \n",
    "    original = cv.imread(img, 0)\n",
    "    original = redimensionar_img(original)\n",
    "#     cv.imshow('original', original)\n",
    "\n",
    "#     ed = deteccao_de_bordas(original)  \n",
    "    tr = threshold_binario(original)   \n",
    "# #     fe = fechamento(ed) \n",
    "    di = dilatacao(tr)\n",
    "    er = erosao(di)\n",
    "    op = abertura(er)\n",
    "#     er = erosao(di)\n",
    "    \n",
    "    sklt = skeleton(op)\n",
    "    \n",
    "#     Essa ultima parte corrige algumas quebras nas minuncias, linhas na horizontal\n",
    "    kern = np.ones((1,5), np.uint8)  # note this is a horizontal kernel\n",
    "    d_im = cv.dilate(sklt, kern, iterations=1)\n",
    "    e_im = cv.erode(d_im, kern, iterations=1) \n",
    "    cv.imshow('Fim', e_im)\n",
    "    \n",
    "    data_minuncias = [\n",
    "                        e_im[e_im.shape[0]//3:e_im.shape[0]//4, e_im.shape[0]//3:e_im.shape[1]//4],\n",
    "                        e_im[e_im.shape[0]//2:e_im.shape[0]//3, e_im.shape[0]//2:e_im.shape[1]//3],\n",
    "                        e_im[e_im.shape[0]//3:e_im.shape[0]//2, e_im.shape[0]//3:e_im.shape[1]//2],\n",
    "                        e_im[e_im.shape[0]//4:e_im.shape[0]//5, e_im.shape[0]//4:e_im.shape[1]//5]\n",
    "                    ]\n",
    "    print(data_minuncias[0])\n",
    "    print(data_minuncias[1])\n",
    "    print(data_minuncias[2])\n",
    "    print(data_minuncias[3])\n",
    "    \n",
    "#     encerrar OpenCv\n",
    "    cv.waitKey(0)\n",
    "    cv.destroyAllWindows()\n",
    "#     fexar PyQt\n",
    "    app.exec()\n",
    "    \n",
    "\n",
    "    "
   ]
  }
 ],
 "metadata": {
  "kernelspec": {
   "display_name": "Python 3",
   "language": "python",
   "name": "python3"
  },
  "language_info": {
   "codemirror_mode": {
    "name": "ipython",
    "version": 3
   },
   "file_extension": ".py",
   "mimetype": "text/x-python",
   "name": "python",
   "nbconvert_exporter": "python",
   "pygments_lexer": "ipython3",
   "version": "3.8.8"
  }
 },
 "nbformat": 4,
 "nbformat_minor": 5
}
