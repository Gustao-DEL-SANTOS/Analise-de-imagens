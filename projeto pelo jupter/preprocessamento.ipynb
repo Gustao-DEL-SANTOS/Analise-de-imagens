{
 "cells": [
  {
   "cell_type": "markdown",
   "id": "9ba019b9",
   "metadata": {},
   "source": [
    "# Primeiro passo é realizar a importacao das bibliotecas"
   ]
  },
  {
   "cell_type": "code",
   "execution_count": 1,
   "id": "cda13a36",
   "metadata": {},
   "outputs": [],
   "source": [
    "import cv2 as cv\n",
    "from matplotlib import pyplot as plt\n",
    "import numpy as np\n",
    "from PIL import Image, ImageFilter"
   ]
  },
  {
   "cell_type": "markdown",
   "id": "0d4529b6",
   "metadata": {},
   "source": [
    "# A função redimencionar serve para alterar o tamanho  da imagem que sera apresentada na tela de login"
   ]
  },
  {
   "cell_type": "code",
   "execution_count": 2,
   "id": "bfab5714",
   "metadata": {},
   "outputs": [],
   "source": [
    "def redimensionar_img(img_name):\n",
    "    try:\n",
    "        # faz a leitura da imagem\n",
    "        img = cv.imread(img_name, 1)\n",
    "        # pega o numero de pixels horizonta e vertical\n",
    "        h, w = img.shape[:2]\n",
    "\n",
    "        res = cv.resize(img, (int(w / 2), int(h / 2)), interpolation= cv.INTER_CUBIC )\n",
    "        cv.imshow('diminuida', res)\n",
    "    except IOError:\n",
    "        print('Erro na leitura do arquivo!')"
   ]
  },
  {
   "cell_type": "markdown",
   "id": "65a97165",
   "metadata": {},
   "source": [
    "# A função de deteccao de bordas:\n",
    "* O kernel utilizado para a detecção é o filtro laplaciano e sua mascara de matriz (3x3).\n",
    "* A tonalidade da imagem é transformada utilizando um filtro para deixá-la acinzentada. "
   ]
  },
  {
   "cell_type": "code",
   "execution_count": 3,
   "id": "79754a1f",
   "metadata": {
    "slideshow": {
     "slide_type": "-"
    }
   },
   "outputs": [],
   "source": [
    "def deteccao_de_bordas(img_name):\n",
    "    img_original = img_name\n",
    "    # Converter a imagem para tons de cinza\n",
    "    img_original = img_original.convert('L')\n",
    "    # Kernel de matriz (3X3)\n",
    "    m = (3,3)\n",
    "    # kernel de 3x3\n",
    "    mk = [\n",
    "          -1, -1, -1,\n",
    "          -1,  8, -1,\n",
    "          -1, -1, -1\n",
    "          ]\n",
    "    # Scala\n",
    "    scale = 1\n",
    "    # offset\n",
    "    offset = 0\n",
    "    # Criação do Kernel/mascara\n",
    "    kernel = ImageFilter.Kernel(m, mk, scale, offset)\n",
    "    # Aplicação do kernel/mascara\n",
    "    img_filtrada = img_original.filter(kernel)\n",
    "    img_filtrada.show()\n",
    "    img_original.show()\n",
    "\n",
    "    return img_filtrada"
   ]
  },
  {
   "cell_type": "markdown",
   "id": "56209e5e",
   "metadata": {},
   "source": [
    "# A função filtro blur\n",
    "* Ele da uma leve borrada na imagem a fim de reduzir os ruidos."
   ]
  },
  {
   "cell_type": "code",
   "execution_count": 22,
   "id": "55e4b7e8",
   "metadata": {},
   "outputs": [],
   "source": [
    "def filtro_blur(img_name):\n",
    "    # Recebendo objeto imagem aberto\n",
    "    img_original = img_name\n",
    "    img_filtrada = img_original.filter(ImageFilter.GaussianBlur(1))\n",
    "    img_filtrada.show()\n",
    "\n",
    "    return img_filtrada\n"
   ]
  },
  {
   "cell_type": "markdown",
   "id": "424ac708",
   "metadata": {},
   "source": [
    "# A função Threshold binario\n",
    "* faz a binarização de uma imagem ou seja, tranformando ela em preto e branco"
   ]
  },
  {
   "cell_type": "code",
   "execution_count": 12,
   "id": "8bfb282a",
   "metadata": {},
   "outputs": [],
   "source": [
    "def threshold_binario(img_name):\n",
    "    # Recebendo objeto imagem aberto\n",
    "    img_original = img_name\n",
    "    img_binaria = img_original.convert('1')\n",
    "    img_binaria.show()\n",
    "    return img_binaria"
   ]
  },
  {
   "cell_type": "code",
   "execution_count": null,
   "id": "33e12300",
   "metadata": {},
   "outputs": [],
   "source": []
  },
  {
   "cell_type": "markdown",
   "id": "70302747",
   "metadata": {},
   "source": [
    "# A função open img faz a abertura do arquivo de imagem selecionado, para fazer o processamento."
   ]
  },
  {
   "cell_type": "code",
   "execution_count": 6,
   "id": "8a70c12a",
   "metadata": {},
   "outputs": [],
   "source": [
    "def open_img(img_name):\n",
    "    # Abrindo a Imagem\n",
    "    img_original = Image.open(img_name)\n",
    "    return img_original\n"
   ]
  },
  {
   "cell_type": "code",
   "execution_count": 31,
   "id": "95108cb3",
   "metadata": {},
   "outputs": [],
   "source": [
    "if __name__ == '__main__':\n",
    "#     Seleciona um arquivo de imagem\n",
    "    img = 'assets\\input\\\\'+'REsultado_gabor.jpg'\n",
    "  \n",
    "#     abre o arquivo da imagem\n",
    "    op_img = open_img(img)\n",
    "    \n",
    "      \n",
    "    edge = deteccao_de_bordas(op_img)\n",
    "    \n",
    "    \n",
    "    blur = filtro_blur(edge) \n",
    "    edge = deteccao_de_bordas(blur)\n",
    "#     edge.save('assets/output/teste2.jpg', 'JPEG')\n",
    "    binar = threshold_binario(op_img)\n",
    "#     binar.save('assets/output/convertida.jpg', 'JPEG')\n",
    "    \n",
    "\n",
    "    "
   ]
  }
 ],
 "metadata": {
  "kernelspec": {
   "display_name": "Python 3",
   "language": "python",
   "name": "python3"
  },
  "language_info": {
   "codemirror_mode": {
    "name": "ipython",
    "version": 3
   },
   "file_extension": ".py",
   "mimetype": "text/x-python",
   "name": "python",
   "nbconvert_exporter": "python",
   "pygments_lexer": "ipython3",
   "version": "3.8.8"
  }
 },
 "nbformat": 4,
 "nbformat_minor": 5
}
